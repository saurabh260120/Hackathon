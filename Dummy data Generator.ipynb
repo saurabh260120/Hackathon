{
 "cells": [
  {
   "cell_type": "code",
   "execution_count": null,
   "id": "ea447629-00f4-4f5d-95b1-87832b684989",
   "metadata": {},
   "outputs": [],
   "source": [
    "# Install necessary libraries (uncomment if needed)\n",
    "# !pip install langchain openai PyPDF2\n",
    "\n",
    "import os\n",
    "import json\n",
    "import PyPDF2\n",
    "from langchain.llms import OpenAI\n",
    "from langchain.chains import LLMChain\n",
    "from langchain.prompts import PromptTemplate\n",
    "\n",
    "# Set your OpenAI API key (replace with your actual key)\n",
    "os.environ[\"OPENAI_API_KEY\"] = \"YOUR_OPENAI_API_KEY\""
   ]
  },
  {
   "cell_type": "code",
   "execution_count": null,
   "id": "f63a4963-023d-4d2f-95cd-76b66d2f0338",
   "metadata": {},
   "outputs": [],
   "source": [
    "# --------------------------------------------------\n",
    "# Step 1: Extract Text from the PDF\n",
    "# --------------------------------------------------\n",
    "def extract_text_from_pdf(pdf_path: str) -> str:\n",
    "    \"\"\"\n",
    "    Extract text from a PDF file.\n",
    "    \"\"\"\n",
    "    with open(pdf_path, \"rb\") as file:\n",
    "        reader = PyPDF2.PdfReader(file)\n",
    "        text = \"\"\n",
    "        for page in reader.pages:\n",
    "            page_text = page.extract_text()\n",
    "            if page_text:\n",
    "                text += page_text + \"\\n\"\n",
    "    return text\n",
    "\n",
    "# Replace 'regulatory_rules.pdf' with your actual PDF file path.\n",
    "pdf_path = \"regulatory_rules.pdf\"\n",
    "pdf_text = extract_text_from_pdf(pdf_path)\n",
    "print(\"Extracted PDF text (first 500 characters):\")\n",
    "print(pdf_text[:500])"
   ]
  },
  {
   "cell_type": "code",
   "execution_count": null,
   "id": "1f6fc8b1-9c34-46ec-a913-afa6795ce4d4",
   "metadata": {},
   "outputs": [],
   "source": [
    "# --------------------------------------------------\n",
    "# Step 2: Leverage the LLM to Extract Field Records\n",
    "# --------------------------------------------------\n",
    "# Define a prompt that asks the LLM to parse the extracted PDF text and output the field records in JSON format.\n",
    "extraction_prompt_template = \"\"\"\n",
    "You are given the extracted text from a regulatory PDF document containing field definitions.\n",
    "Your task is to extract all field records from the text.\n",
    "For each field record, extract the following details:\n",
    "- field_no: the field number.\n",
    "- field_name: the field name along with its technical name in parentheses.\n",
    "- description: a short description of the field.\n",
    "- constraints: any validation constraints (for example, \"Must not contain a carriage return, line feed, comma or any unprintable character.\")\n",
    "\n",
    "Return the results as valid JSON in the following format:\n",
    "[\n",
    "  {\n",
    "    \"field_no\": \"1\",\n",
    "    \"field_name\": \"Customer ID (CustomerID)\",\n",
    "    \"description\": \"Report the unique internal identifier for the customer relationship...\",\n",
    "    \"constraints\": \"Must not contain a carriage return, line feed, comma or any unprintable character.\"\n",
    "  },\n",
    "  ...\n",
    "]\n",
    "\n",
    "Only output the JSON without any additional commentary.\n",
    "\n",
    "Extract the information from the text below:\n",
    "====================\n",
    "{pdf_text}\n",
    "====================\n",
    "\"\"\"\n",
    "\n",
    "extraction_prompt = PromptTemplate(\n",
    "    template=extraction_prompt_template,\n",
    "    input_variables=[\"pdf_text\"]\n",
    ")"
   ]
  }
 ],
 "metadata": {
  "kernelspec": {
   "display_name": "Python 3 (ipykernel)",
   "language": "python",
   "name": "python3"
  },
  "language_info": {
   "codemirror_mode": {
    "name": "ipython",
    "version": 3
   },
   "file_extension": ".py",
   "mimetype": "text/x-python",
   "name": "python",
   "nbconvert_exporter": "python",
   "pygments_lexer": "ipython3",
   "version": "3.13.2"
  }
 },
 "nbformat": 4,
 "nbformat_minor": 5
}
